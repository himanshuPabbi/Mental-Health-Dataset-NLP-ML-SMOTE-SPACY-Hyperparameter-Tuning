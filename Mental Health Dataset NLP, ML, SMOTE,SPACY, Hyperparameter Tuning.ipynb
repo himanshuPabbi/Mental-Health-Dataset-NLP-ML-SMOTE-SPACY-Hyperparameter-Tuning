{
 "cells": [
  {
   "cell_type": "code",
   "execution_count": 1,
   "id": "e3be2977",
   "metadata": {},
   "outputs": [],
   "source": [
    "import pandas as pd\n",
    "import numpy as np\n",
    "\n",
    "import matplotlib.pyplot as plt\n",
    "import seaborn as sns\n",
    "from wordcloud import WordCloud, STOPWORDS\n",
    "\n",
    "import spacy\n",
    "from sklearn.feature_extraction.text import TfidfVectorizer\n",
    "from sklearn.model_selection import train_test_split\n",
    "\n",
    "from sklearn.metrics import accuracy_score, confusion_matrix, classification_report\n",
    "\n",
    "import warnings\n",
    "warnings.filterwarnings(\"ignore\")"
   ]
  },
  {
   "cell_type": "code",
   "execution_count": 2,
   "id": "359b99e5",
   "metadata": {},
   "outputs": [
    {
     "data": {
      "text/html": [
       "<div>\n",
       "<style scoped>\n",
       "    .dataframe tbody tr th:only-of-type {\n",
       "        vertical-align: middle;\n",
       "    }\n",
       "\n",
       "    .dataframe tbody tr th {\n",
       "        vertical-align: top;\n",
       "    }\n",
       "\n",
       "    .dataframe thead th {\n",
       "        text-align: right;\n",
       "    }\n",
       "</style>\n",
       "<table border=\"1\" class=\"dataframe\">\n",
       "  <thead>\n",
       "    <tr style=\"text-align: right;\">\n",
       "      <th></th>\n",
       "      <th>posts</th>\n",
       "      <th>predicted</th>\n",
       "      <th>intensity</th>\n",
       "    </tr>\n",
       "  </thead>\n",
       "  <tbody>\n",
       "    <tr>\n",
       "      <th>0</th>\n",
       "      <td>I know as parent of child with down syndrome t...</td>\n",
       "      <td>negative</td>\n",
       "      <td>-1</td>\n",
       "    </tr>\n",
       "    <tr>\n",
       "      <th>1</th>\n",
       "      <td>but in my heart I know this is the future prom...</td>\n",
       "      <td>neutral</td>\n",
       "      <td>0</td>\n",
       "    </tr>\n",
       "    <tr>\n",
       "      <th>2</th>\n",
       "      <td>I have mylefibrosis which turn to leukemia the...</td>\n",
       "      <td>negative</td>\n",
       "      <td>-1</td>\n",
       "    </tr>\n",
       "    <tr>\n",
       "      <th>3</th>\n",
       "      <td>from one of my health group subject wayne dyer...</td>\n",
       "      <td>neutral</td>\n",
       "      <td>0</td>\n",
       "    </tr>\n",
       "    <tr>\n",
       "      <th>4</th>\n",
       "      <td>gmos now link to leukemia http nsnbc I 2013 07...</td>\n",
       "      <td>neutral</td>\n",
       "      <td>0</td>\n",
       "    </tr>\n",
       "  </tbody>\n",
       "</table>\n",
       "</div>"
      ],
      "text/plain": [
       "                                               posts predicted  intensity\n",
       "0  I know as parent of child with down syndrome t...  negative         -1\n",
       "1  but in my heart I know this is the future prom...   neutral          0\n",
       "2  I have mylefibrosis which turn to leukemia the...  negative         -1\n",
       "3  from one of my health group subject wayne dyer...   neutral          0\n",
       "4  gmos now link to leukemia http nsnbc I 2013 07...   neutral          0"
      ]
     },
     "execution_count": 2,
     "metadata": {},
     "output_type": "execute_result"
    }
   ],
   "source": [
    "data = pd.read_csv(\"Mental Health Dataset.csv\")\n",
    "data.head()"
   ]
  },
  {
   "cell_type": "code",
   "execution_count": 3,
   "id": "5ca02dba",
   "metadata": {},
   "outputs": [
    {
     "name": "stdout",
     "output_type": "stream",
     "text": [
      "10392 rows\n",
      "3 columns\n"
     ]
    }
   ],
   "source": [
    "# Data size\n",
    "print(f'{data.shape[0]} rows')\n",
    "print(f'{data.shape[1]} columns')"
   ]
  },
  {
   "cell_type": "code",
   "execution_count": 4,
   "id": "64cf13e1",
   "metadata": {},
   "outputs": [
    {
     "name": "stdout",
     "output_type": "stream",
     "text": [
      "============================================================\n",
      "                    Dataset Information\n",
      "============================================================\n",
      "<class 'pandas.core.frame.DataFrame'>\n",
      "RangeIndex: 10392 entries, 0 to 10391\n",
      "Data columns (total 3 columns):\n",
      " #   Column     Non-Null Count  Dtype \n",
      "---  ------     --------------  ----- \n",
      " 0   posts      10391 non-null  object\n",
      " 1   predicted  10392 non-null  object\n",
      " 2   intensity  10392 non-null  int64 \n",
      "dtypes: int64(1), object(2)\n",
      "memory usage: 243.7+ KB\n",
      "None\n"
     ]
    }
   ],
   "source": [
    "print(\"==\" * 30)\n",
    "print(\" \" * 19, \"Dataset Information\")\n",
    "print(\"==\" * 30)\n",
    "print(data.info())"
   ]
  },
  {
   "cell_type": "code",
   "execution_count": 5,
   "id": "c256542a",
   "metadata": {},
   "outputs": [
    {
     "name": "stdout",
     "output_type": "stream",
     "text": [
      "0\n"
     ]
    }
   ],
   "source": [
    "print(f\"{data.duplicated().sum()}\")\n"
   ]
  },
  {
   "cell_type": "code",
   "execution_count": 6,
   "id": "0734568b",
   "metadata": {},
   "outputs": [
    {
     "data": {
      "text/plain": [
       "posts        1\n",
       "predicted    0\n",
       "intensity    0\n",
       "dtype: int64"
      ]
     },
     "execution_count": 6,
     "metadata": {},
     "output_type": "execute_result"
    }
   ],
   "source": [
    "data.isnull().sum()\n"
   ]
  },
  {
   "cell_type": "code",
   "execution_count": 7,
   "id": "bccd946b",
   "metadata": {},
   "outputs": [
    {
     "data": {
      "text/plain": [
       "posts        0\n",
       "predicted    0\n",
       "intensity    0\n",
       "dtype: int64"
      ]
     },
     "execution_count": 7,
     "metadata": {},
     "output_type": "execute_result"
    }
   ],
   "source": [
    "data = data.dropna()\n",
    "\n",
    "data.isnull().sum()"
   ]
  },
  {
   "cell_type": "code",
   "execution_count": 8,
   "id": "b70a499f",
   "metadata": {},
   "outputs": [
    {
     "data": {
      "image/png": "[encoded data removed]",
      "text/plain": [
       "<Figure size 648x288 with 1 Axes>"
      ]
     },
     "metadata": {
      "needs_background": "light"
     },
     "output_type": "display_data"
    }
   ],
   "source": [
    "# WordCloud\n",
    "all_text = \" \".join(data['posts'])\n",
    "\n",
    "wc = WordCloud(stopwords = STOPWORDS).generate(all_text)\n",
    "\n",
    "plt.figure(figsize = (9,4))\n",
    "plt.imshow(wc)\n",
    "plt.axis('off')\n",
    "plt.show()"
   ]
  },
  {
   "cell_type": "code",
   "execution_count": null,
   "id": "c5382840",
   "metadata": {},
   "outputs": [],
   "source": []
  },
  {
   "cell_type": "code",
   "execution_count": 9,
   "id": "2e5af781",
   "metadata": {},
   "outputs": [],
   "source": [
    "seq_len = [None] * len(data)\n",
    "\n",
    "for i,post in enumerate(data['posts']):\n",
    "    \n",
    "    seq_len[i] = len(post.split())"
   ]
  },
  {
   "cell_type": "code",
   "execution_count": 10,
   "id": "de8562e7",
   "metadata": {},
   "outputs": [
    {
     "name": "stdout",
     "output_type": "stream",
     "text": [
      "==============================\n",
      "Max seq: 5413\n",
      "==============================\n"
     ]
    },
    {
     "data": {
      "image/png": "[encoded data removed]",
      "text/plain": [
       "<Figure size 576x252 with 1 Axes>"
      ]
     },
     "metadata": {
      "needs_background": "light"
     },
     "output_type": "display_data"
    }
   ],
   "source": [
    "print(\"==\" * 15)\n",
    "print(f'Max seq: {max(seq_len)}')\n",
    "print(\"==\" * 15)\n",
    "plt.figure(figsize = (8,3.5))\n",
    "sns.histplot(seq_len, kde = True, line_kws = {'linewidth':2.3})\n",
    "sns.rugplot(seq_len)\n",
    "plt.title(\"Distribution of the length of each text\", fontsize = 12, fontweight = \"bold\")\n",
    "plt.show()\n"
   ]
  },
  {
   "cell_type": "code",
   "execution_count": 11,
   "id": "53860346",
   "metadata": {},
   "outputs": [],
   "source": [
    "# Define language model\n",
    "nlp = spacy.load(\"en_core_web_sm\")\n"
   ]
  },
  {
   "cell_type": "code",
   "execution_count": 12,
   "id": "e47c6cba",
   "metadata": {},
   "outputs": [],
   "source": [
    "# Text preprocessing\n",
    "def preprocess(txt:str):\n",
    "    \n",
    "    doc = nlp(txt)\n",
    "    \n",
    "    tokens_filtrered = []\n",
    "    \n",
    "    for token in doc:\n",
    "        if token.is_stop or token.is_punct:\n",
    "            continue\n",
    "            \n",
    "        tokens_filtrered.append(token.lemma_)\n",
    "        \n",
    "    return \" \".join(tokens_filtrered)"
   ]
  },
  {
   "cell_type": "code",
   "execution_count": 13,
   "id": "b7915e01",
   "metadata": {},
   "outputs": [],
   "source": [
    "# We apply preprocessing.\n",
    "data['posts_prep'] = data['posts'].apply(preprocess)"
   ]
  },
  {
   "cell_type": "code",
   "execution_count": 14,
   "id": "bca54e7d",
   "metadata": {},
   "outputs": [],
   "source": [
    "post_corpus=[]"
   ]
  },
  {
   "cell_type": "code",
   "execution_count": 15,
   "id": "d7526e70",
   "metadata": {},
   "outputs": [],
   "source": [
    "for msg in data['posts_prep'].tolist():\n",
    "    for word in msg.split():\n",
    "        post_corpus.append(word)"
   ]
  },
  {
   "cell_type": "code",
   "execution_count": 16,
   "id": "56083936",
   "metadata": {},
   "outputs": [
    {
     "data": {
      "text/plain": [
       "1031993"
      ]
     },
     "execution_count": 16,
     "metadata": {},
     "output_type": "execute_result"
    }
   ],
   "source": [
    "len(post_corpus)"
   ]
  },
  {
   "cell_type": "code",
   "execution_count": 17,
   "id": "c226c5f8",
   "metadata": {},
   "outputs": [
    {
     "data": {
      "text/plain": [
       "['know',\n",
       " 'parent',\n",
       " 'child',\n",
       " 'syndrome',\n",
       " 'hear',\n",
       " 'child',\n",
       " 'high',\n",
       " 'risk',\n",
       " 'leukemia',\n",
       " 'parent',\n",
       " 'read',\n",
       " 'happen',\n",
       " 'child',\n",
       " 'turn',\n",
       " '2yr',\n",
       " 'old',\n",
       " 'start',\n",
       " 'bruise',\n",
       " 'thought',\n",
       " 'leukemia',\n",
       " 'breafly',\n",
       " 'cross',\n",
       " 'mind',\n",
       " 'quickly',\n",
       " 'push',\n",
       " 'mind',\n",
       " 'rationalize',\n",
       " 'rough',\n",
       " 'playing',\n",
       " '2yr',\n",
       " 'old',\n",
       " 'normal',\n",
       " 'bruise',\n",
       " 'work',\n",
       " 'month',\n",
       " 'little',\n",
       " 'fussy',\n",
       " 'whinny',\n",
       " 'normal',\n",
       " 'right',\n",
       " 'sick',\n",
       " 'like',\n",
       " 'lot',\n",
       " 'child',\n",
       " 'sick',\n",
       " 'sick',\n",
       " 'doc',\n",
       " 'friday',\n",
       " 'cold',\n",
       " 'tell',\n",
       " 'boss',\n",
       " 'sick',\n",
       " 'surpise',\n",
       " 'hospital',\n",
       " 'offten',\n",
       " 'sick',\n",
       " 'ok',\n",
       " 'sit',\n",
       " 'sure',\n",
       " 'sicker',\n",
       " 'er',\n",
       " 'tell',\n",
       " 'rsv',\n",
       " 'send',\n",
       " 'home',\n",
       " 'med',\n",
       " 'time',\n",
       " 'home',\n",
       " 'bad',\n",
       " 'time',\n",
       " 'order',\n",
       " 'test',\n",
       " 'hospital',\n",
       " 'world',\n",
       " 'start',\n",
       " 'come',\n",
       " 'blood',\n",
       " 'work',\n",
       " 'come',\n",
       " 'bad',\n",
       " 'want',\n",
       " 'retest',\n",
       " 'probley',\n",
       " 'come',\n",
       " 'want',\n",
       " 'icu',\n",
       " 'start',\n",
       " 'scared',\n",
       " 'thought',\n",
       " 'come',\n",
       " 'leukemia',\n",
       " 'try',\n",
       " 'push',\n",
       " 'mind',\n",
       " 'want',\n",
       " 'think',\n",
       " 'bad',\n",
       " 'long',\n",
       " 'doc',\n",
       " 'come',\n",
       " 'believe',\n",
       " 'william',\n",
       " 'leukemia',\n",
       " 'quickly',\n",
       " 'fly',\n",
       " 'beaumont',\n",
       " 'tx',\n",
       " 'houston',\n",
       " 'tx',\n",
       " 'texas',\n",
       " 'childrens',\n",
       " 'hospital',\n",
       " 'remision',\n",
       " '3',\n",
       " '1',\n",
       " '2',\n",
       " 'yrs',\n",
       " 'chemo',\n",
       " 'run',\n",
       " 'walk',\n",
       " 'anymore',\n",
       " 'chemos',\n",
       " 'vinchristin',\n",
       " 'come',\n",
       " 'find',\n",
       " 'way',\n",
       " 'slow',\n",
       " 'dow',\n",
       " 'write',\n",
       " 'dwell',\n",
       " 'symptom',\n",
       " 'leukemia',\n",
       " 'child',\n",
       " 'check',\n",
       " 'find',\n",
       " 'look',\n",
       " 'find',\n",
       " 'like',\n",
       " 'parent',\n",
       " 'talk',\n",
       " 'accident',\n",
       " 'heart',\n",
       " 'know',\n",
       " 'future',\n",
       " 'promise',\n",
       " 'article',\n",
       " 'regardless',\n",
       " 'http',\n",
       " 'ottawa',\n",
       " 'ctvnew',\n",
       " 'ottawa',\n",
       " 'researcher',\n",
       " 'hopeful',\n",
       " 'nano',\n",
       " 'particle',\n",
       " 'cure',\n",
       " 'leukemia',\n",
       " '1',\n",
       " '1409330',\n",
       " 'ottawa',\n",
       " 'researcher',\n",
       " 'hopeful',\n",
       " 'nano',\n",
       " 'particle',\n",
       " 'cure',\n",
       " 'leukemia',\n",
       " 'medical',\n",
       " 'breakthrough',\n",
       " 'ctv',\n",
       " 'joanne',\n",
       " 'schnurr',\n",
       " 'homegrown',\n",
       " 'research',\n",
       " 'close',\n",
       " 'cure',\n",
       " 'leukemia',\n",
       " 'medical',\n",
       " 'leader',\n",
       " 'world',\n",
       " 'eye',\n",
       " 'ottawa',\n",
       " 'blood',\n",
       " 'cancer',\n",
       " 'breakthrough',\n",
       " 'ottawa',\n",
       " 'doctor',\n",
       " 'talk',\n",
       " 'cure',\n",
       " 'doctor',\n",
       " 'ottawa',\n",
       " 'research',\n",
       " 'institute',\n",
       " 'major',\n",
       " 'finding',\n",
       " 'battle',\n",
       " 'blood',\n",
       " 'cancer',\n",
       " 'leukemia',\n",
       " 'share',\n",
       " '8',\n",
       " 'text',\n",
       " 'share',\n",
       " 'print',\n",
       " 'share',\n",
       " 'email',\n",
       " '0',\n",
       " 'joanne',\n",
       " 'schnurr',\n",
       " 'ctv',\n",
       " 'ottawa',\n",
       " 'publish',\n",
       " 'tuesday',\n",
       " 'august',\n",
       " '13',\n",
       " '2013',\n",
       " '4',\n",
       " '05pm',\n",
       " 'edt',\n",
       " 'update',\n",
       " 'tuesday',\n",
       " 'august',\n",
       " '13',\n",
       " '2013',\n",
       " '6',\n",
       " '22pm',\n",
       " 'edt',\n",
       " 'ottawa',\n",
       " 'researcher',\n",
       " 'cautiously',\n",
       " 'use',\n",
       " 'word',\n",
       " 'cure',\n",
       " 'talk',\n",
       " 'new',\n",
       " 'research',\n",
       " 'leukemia',\n",
       " 'research',\n",
       " 'new',\n",
       " 'long',\n",
       " 'way',\n",
       " 'help',\n",
       " 'human',\n",
       " 'patient',\n",
       " 'mouse',\n",
       " 've',\n",
       " 'develop',\n",
       " 'tiny',\n",
       " 'particle',\n",
       " 'lab',\n",
       " 'cause',\n",
       " 'cancerous',\n",
       " 'white',\n",
       " 'blood',\n",
       " 'cell',\n",
       " 'kill',\n",
       " 'patient',\n",
       " 'acute',\n",
       " 'myeloid',\n",
       " 'leukemia',\n",
       " 'stem',\n",
       " 'cell',\n",
       " 'transplant',\n",
       " 'heavy',\n",
       " 'chemotherapy',\n",
       " 'hope',\n",
       " 'cure',\n",
       " 'survival',\n",
       " 'rate',\n",
       " 'bad',\n",
       " 'cancer',\n",
       " '22',\n",
       " 's',\n",
       " 'happen',\n",
       " 'inside',\n",
       " 'lab',\n",
       " 'ottawa',\n",
       " 'hospital',\n",
       " 'research',\n",
       " 'institute',\n",
       " 'new',\n",
       " 'hope',\n",
       " 'cure',\n",
       " 'tough',\n",
       " 'type',\n",
       " 'leukemia',\n",
       " 'doctor',\n",
       " 'david',\n",
       " 'conrad',\n",
       " 'john',\n",
       " 'bell',\n",
       " 'develop',\n",
       " 'tiny',\n",
       " 'nano',\n",
       " 'particle',\n",
       " 'cause',\n",
       " 'human',\n",
       " 'blood',\n",
       " 'cancer',\n",
       " 'cell',\n",
       " 'kill',\n",
       " 'result',\n",
       " 'mouse',\n",
       " 'dramatic',\n",
       " 'photo',\n",
       " 'dr',\n",
       " 'david',\n",
       " 'conrad',\n",
       " 'ottawa',\n",
       " 'lab',\n",
       " 'dr',\n",
       " 'david',\n",
       " 'conrad',\n",
       " 'ottawa',\n",
       " 'lab',\n",
       " 'cancer',\n",
       " 'cell',\n",
       " 'kill',\n",
       " 'cancer',\n",
       " 'cell',\n",
       " 'kill',\n",
       " '60',\n",
       " 'percent',\n",
       " 'mouse',\n",
       " 'cure',\n",
       " 'explain',\n",
       " 'dr',\n",
       " 'david',\n",
       " 'conrad',\n",
       " 'hematologist',\n",
       " 'conduct',\n",
       " 'research',\n",
       " 'blood',\n",
       " 'marrow',\n",
       " 'transplant',\n",
       " 'program',\n",
       " 'ottawa',\n",
       " 'hospital',\n",
       " 'word',\n",
       " 'leave',\n",
       " 'mouse',\n",
       " 'continue',\n",
       " 'live',\n",
       " 'lab',\n",
       " 'live',\n",
       " 'normal',\n",
       " 'lifespan',\n",
       " 'essentially',\n",
       " 'cure',\n",
       " 'leukemia',\n",
       " 'untreated',\n",
       " 'mouse',\n",
       " 'die',\n",
       " '21',\n",
       " 'day',\n",
       " 'particle',\n",
       " 'able',\n",
       " 'kill',\n",
       " 'multiple',\n",
       " 'form',\n",
       " 'leukemia',\n",
       " 'lab',\n",
       " 'include',\n",
       " 'sample',\n",
       " 'local',\n",
       " 'patient',\n",
       " 'fail',\n",
       " 'form',\n",
       " 'therapy',\n",
       " 'try',\n",
       " 'human',\n",
       " 'likely',\n",
       " 'couple',\n",
       " 'year',\n",
       " 'dr',\n",
       " 'conrad',\n",
       " 'capture',\n",
       " 'video',\n",
       " 'happen',\n",
       " 'leukemia',\n",
       " 'cell',\n",
       " 'expose',\n",
       " 'killer',\n",
       " 'nano',\n",
       " 'particle',\n",
       " 'cell',\n",
       " 'happy',\n",
       " 'agent',\n",
       " 'introduce',\n",
       " 'rapidly',\n",
       " 'change',\n",
       " 'behavior',\n",
       " 'bloated',\n",
       " 'shrivel',\n",
       " 'movement',\n",
       " 'cancer',\n",
       " 'cell',\n",
       " 'plate',\n",
       " 'completely',\n",
       " 'dead',\n",
       " 'think',\n",
       " 'agent',\n",
       " 'def',\n",
       " 'con',\n",
       " '5',\n",
       " 'undergo',\n",
       " 'suicide',\n",
       " 'dr',\n",
       " 'conrad',\n",
       " 'biomedical',\n",
       " 'science',\n",
       " 'student',\n",
       " 'mina',\n",
       " 'rizk',\n",
       " 'work',\n",
       " 'alongside',\n",
       " 'researcher',\n",
       " 'potential',\n",
       " 'cure',\n",
       " 'leukemia',\n",
       " 'lifetime',\n",
       " 'opportunity',\n",
       " 'm',\n",
       " 'grateful',\n",
       " 'find',\n",
       " 'opportunity',\n",
       " 'rizk',\n",
       " 'aware',\n",
       " 'student',\n",
       " 'chance',\n",
       " 'focus',\n",
       " 'blood',\n",
       " 'cancer',\n",
       " 'researcher',\n",
       " 'success',\n",
       " 'solid',\n",
       " 'cancer',\n",
       " 'tumor',\n",
       " 'step',\n",
       " 'clinical',\n",
       " 'trial',\n",
       " 'kill',\n",
       " 'cancer',\n",
       " 'cell',\n",
       " 'human',\n",
       " 'way',\n",
       " 'mouse',\n",
       " 'read',\n",
       " 'http',\n",
       " 'ottawa',\n",
       " 'ctvnew',\n",
       " 'ottawa',\n",
       " 'researcher',\n",
       " 'hopeful',\n",
       " 'nano',\n",
       " 'particle',\n",
       " 'cure',\n",
       " 'leukemia',\n",
       " '1',\n",
       " '1409330',\n",
       " 'ixzz2btqkefrh',\n",
       " 'mylefibrosis',\n",
       " 'turn',\n",
       " 'leukemia',\n",
       " 'want',\n",
       " 'stem',\n",
       " 'cell',\n",
       " 'transplant',\n",
       " 'stc',\n",
       " 'want',\n",
       " 'leukemia',\n",
       " 'remission',\n",
       " 'induction',\n",
       " 'chemo',\n",
       " 'hard',\n",
       " 'chemo',\n",
       " 'week',\n",
       " 'hospital',\n",
       " 'follow',\n",
       " 'week',\n",
       " 'hosp',\n",
       " 'recovery',\n",
       " 'leukemia',\n",
       " 'remission',\n",
       " 'reason',\n",
       " 'round',\n",
       " 'chemo',\n",
       " 'hit',\n",
       " 'hard',\n",
       " 'pnemonia',\n",
       " 'asthma',\n",
       " 'blood',\n",
       " 'clot',\n",
       " 'pic',\n",
       " 'line',\n",
       " 'week',\n",
       " 'later',\n",
       " 'second',\n",
       " 'round',\n",
       " 'chemo',\n",
       " 'week',\n",
       " 'hospital',\n",
       " 'effect',\n",
       " 'bad',\n",
       " 'sit',\n",
       " 'recover',\n",
       " 'week',\n",
       " 'tiny',\n",
       " 'room',\n",
       " 'kid',\n",
       " 'home',\n",
       " 'leukemia',\n",
       " 'remission',\n",
       " 'schedule',\n",
       " 'stc',\n",
       " 'tell',\n",
       " '10',\n",
       " 'percent',\n",
       " 'chance',\n",
       " 'work',\n",
       " '120',\n",
       " 'day',\n",
       " 'transplant',\n",
       " 'trace',\n",
       " 'leukemia',\n",
       " 'system',\n",
       " 'know',\n",
       " 'slightly',\n",
       " 'people',\n",
       " 'sct',\n",
       " 'time',\n",
       " 'cancer',\n",
       " 'agree',\n",
       " 'fear',\n",
       " 'bad',\n",
       " 'actual',\n",
       " 'experience',\n",
       " 'stc',\n",
       " 'consist',\n",
       " 'week',\n",
       " 'chemo',\n",
       " 'end',\n",
       " 'stem',\n",
       " 'cell',\n",
       " 'like',\n",
       " 'blood',\n",
       " 'transfusion',\n",
       " 'drip',\n",
       " 'like',\n",
       " 'iv',\n",
       " '2',\n",
       " 'hour',\n",
       " 'people',\n",
       " 'meet',\n",
       " 'recovery',\n",
       " 'come',\n",
       " 'day',\n",
       " 'awhile',\n",
       " 'day',\n",
       " 'week',\n",
       " '4',\n",
       " 'great',\n",
       " 'result',\n",
       " 'person',\n",
       " 'leukemia',\n",
       " 'finish',\n",
       " 'encourage',\n",
       " 'second',\n",
       " 'opinion',\n",
       " 'big',\n",
       " 'decision',\n",
       " 'mayo',\n",
       " 'clinic',\n",
       " 'scottsdale',\n",
       " 'want',\n",
       " 'second',\n",
       " 'round',\n",
       " 'chemo',\n",
       " 'md',\n",
       " 'anderson',\n",
       " 'second',\n",
       " 'opinion',\n",
       " 'tell',\n",
       " 'chemo',\n",
       " 'reisitant',\n",
       " 'suggest',\n",
       " 'experimental',\n",
       " 'jak2',\n",
       " 'inhibitor',\n",
       " 'jak2',\n",
       " 'gene',\n",
       " 'mutation',\n",
       " 'work',\n",
       " 'leukemia',\n",
       " 'remission',\n",
       " 'little',\n",
       " 'kid',\n",
       " 'need',\n",
       " 'decent',\n",
       " 'chance',\n",
       " 'beat',\n",
       " 'mayo',\n",
       " 'doctor',\n",
       " 'dr',\n",
       " 'reeder',\n",
       " 'assure',\n",
       " 'chance',\n",
       " 'right',\n",
       " 'shudder',\n",
       " 'think',\n",
       " 'md',\n",
       " 'anderson',\n",
       " 'recommendation',\n",
       " 'recommend',\n",
       " 'dr',\n",
       " 'slack',\n",
       " 'mayo',\n",
       " 'scottsdale',\n",
       " 'oh',\n",
       " 'way',\n",
       " '3',\n",
       " '5',\n",
       " 'people',\n",
       " 'sct',\n",
       " '66',\n",
       " '71',\n",
       " 'year',\n",
       " 'old',\n",
       " 'good',\n",
       " 'luck',\n",
       " 'journey',\n",
       " 'kathy',\n",
       " '42',\n",
       " 'year',\n",
       " 'old',\n",
       " 'health',\n",
       " 'group',\n",
       " 'subject',\n",
       " 'wayne',\n",
       " 'dyer',\n",
       " 'leukemia',\n",
       " 'case',\n",
       " 'aware',\n",
       " 'wayne',\n",
       " 'announce',\n",
       " 'chronic',\n",
       " 'lymphocytic',\n",
       " 'leukemia',\n",
       " 'oncologist',\n",
       " 'deepak',\n",
       " 'chopra',\n",
       " 'center',\n",
       " 'think',\n",
       " 'send',\n",
       " 'case',\n",
       " 'like',\n",
       " 'send',\n",
       " 'healing',\n",
       " 'contribute',\n",
       " 'wellness',\n",
       " 'blessing',\n",
       " 'trish',\n",
       " 'wayne',\n",
       " 'dyer',\n",
       " 'reveal',\n",
       " 'leukemia',\n",
       " 'couple',\n",
       " 'week',\n",
       " 'ago',\n",
       " 'motivational',\n",
       " 'speaker',\n",
       " 'author',\n",
       " 'dr',\n",
       " 'wayne',\n",
       " 'dyer',\n",
       " 'state',\n",
       " 'radio',\n",
       " 'excuse',\n",
       " 'begone',\n",
       " 'thing',\n",
       " 'body',\n",
       " 'elaborate',\n",
       " 'time',\n",
       " 'early',\n",
       " 'today',\n",
       " 'dr',\n",
       " 'dyers',\n",
       " 'program',\n",
       " 'hay',\n",
       " 'house',\n",
       " 'radio',\n",
       " 'caller',\n",
       " 'reference',\n",
       " 'aforementione',\n",
       " 'comment',\n",
       " 'time',\n",
       " 'dyer',\n",
       " 'provide',\n",
       " 'detail',\n",
       " 'health',\n",
       " 'situation',\n",
       " 'dyer',\n",
       " 'state',\n",
       " 'chronic',\n",
       " 'lymphocytic',\n",
       " 'leukemia',\n",
       " 'cll',\n",
       " 'life',\n",
       " 'threaten',\n",
       " 'people',\n",
       " 'certainly',\n",
       " 'fear',\n",
       " 'type',\n",
       " 'news',\n",
       " 'dr',\n",
       " 'dyer',\n",
       " 'appear',\n",
       " 'nonplussed',\n",
       " 'state',\n",
       " 'totally',\n",
       " 'confident',\n",
       " 'peace',\n",
       " 'spend',\n",
       " 'time',\n",
       " 'chopra',\n",
       " 'center',\n",
       " 'operate',\n",
       " 'dyer',\n",
       " 'longtime',\n",
       " 'friend',\n",
       " 'dr',\n",
       " 'deepak',\n",
       " 'chopra',\n",
       " 'chopra',\n",
       " 'touch',\n",
       " 'nearly',\n",
       " 'day',\n",
       " 'dyer',\n",
       " 'learn',\n",
       " 'condition',\n",
       " 'dyer',\n",
       " 'work',\n",
       " 'holistic',\n",
       " 'oncologist',\n",
       " 'chopra',\n",
       " 'center',\n",
       " 'conclude',\n",
       " 'short',\n",
       " 'talk',\n",
       " 'situation',\n",
       " 'dr',\n",
       " 'dyer',\n",
       " 'excited',\n",
       " 'prospect',\n",
       " 'deal',\n",
       " 'good',\n",
       " 'case',\n",
       " 'scenario',\n",
       " 'dyer',\n",
       " 'note',\n",
       " 'live',\n",
       " 'rest',\n",
       " 'life',\n",
       " 'difficulty',\n",
       " 'condition',\n",
       " 'dr',\n",
       " 'dyer',\n",
       " 'help',\n",
       " 'thousand',\n",
       " 'people',\n",
       " 'world',\n",
       " 'year',\n",
       " 'let',\n",
       " 'pray',\n",
       " 'think',\n",
       " 'source',\n",
       " 'http',\n",
       " 'www',\n",
       " 'allvoice',\n",
       " 'com',\n",
       " 'contribute',\n",
       " 'news',\n",
       " '3778829',\n",
       " 'wayne',\n",
       " 'dyer',\n",
       " 'reveal',\n",
       " 'leukemia',\n",
       " 'gmos',\n",
       " 'link',\n",
       " 'leukemia',\n",
       " 'http',\n",
       " 'nsnbc',\n",
       " '2013',\n",
       " '07',\n",
       " '17',\n",
       " 'gmo',\n",
       " 'link',\n",
       " 'leukemia',\n",
       " 'barry',\n",
       " 'link',\n",
       " 'interesting',\n",
       " 'article',\n",
       " 'sound',\n",
       " 'bite',\n",
       " 'regard',\n",
       " 'aml',\n",
       " 'specifically',\n",
       " 'think',\n",
       " 'interest',\n",
       " 'http',\n",
       " 'wrbw',\n",
       " 'membercenter',\n",
       " 'worldnow',\n",
       " 'com',\n",
       " 'story',\n",
       " '23452398',\n",
       " 'leukemia',\n",
       " 'lymphoma',\n",
       " 'society',\n",
       " 'knight',\n",
       " 'cancer',\n",
       " 'institute',\n",
       " 'launch',\n",
       " 'groundbreaking',\n",
       " 'collaboration',\n",
       " 'improve',\n",
       " 'outcome',\n",
       " 'acute',\n",
       " 'myeloid',\n",
       " 'leukemia',\n",
       " 'peace',\n",
       " 'andrea',\n",
       " 'genetic',\n",
       " 'difference',\n",
       " 'associate',\n",
       " 'outcome',\n",
       " 'acute',\n",
       " 'myeloid',\n",
       " 'leukemia',\n",
       " 'charles',\n",
       " 'h',\n",
       " 'weaver',\n",
       " 'md',\n",
       " 'appear',\n",
       " 'different',\n",
       " 'genetic',\n",
       " 'mutation',\n",
       " 'alteration',\n",
       " 'affect',\n",
       " 'outcome',\n",
       " 'patient',\n",
       " 'acute',\n",
       " 'myeloid',\n",
       " 'leukemia',\n",
       " 'result',\n",
       " 'recently',\n",
       " 'publish',\n",
       " 'new',\n",
       " 'england',\n",
       " 'journal',\n",
       " 'medicine',\n",
       " 'acute',\n",
       " 'myeloid',\n",
       " 'leukemia',\n",
       " 'aml',\n",
       " 'cancer',\n",
       " 'blood',\n",
       " 'bone',\n",
       " 'marrow',\n",
       " 'spongy',\n",
       " 'portion',\n",
       " 'find',\n",
       " 'middle',\n",
       " 'bone',\n",
       " 'characterize',\n",
       " 'rapid',\n",
       " 'uncontrolled',\n",
       " 'growth',\n",
       " 'immature',\n",
       " 'white',\n",
       " 'blood',\n",
       " 'cell',\n",
       " 'know',\n",
       " 'myelocyte',\n",
       " 'disease',\n",
       " 'common',\n",
       " 'adult',\n",
       " 'child',\n",
       " 'average',\n",
       " 'age',\n",
       " 'diagnosis',\n",
       " 'old',\n",
       " 'age',\n",
       " '65',\n",
       " 'cancer',\n",
       " 'therapy',\n",
       " 'individualized',\n",
       " 'researcher',\n",
       " 'continue',\n",
       " 'evaluate',\n",
       " 'outcome',\n",
       " 'associate',\n",
       " 'different',\n",
       " 'mutation',\n",
       " 'patient',\n",
       " 'disease',\n",
       " 'variable',\n",
       " 'know',\n",
       " 'mutation',\n",
       " 'occur',\n",
       " 'follow',\n",
       " 'gene',\n",
       " 'involve',\n",
       " 'aml',\n",
       " 'nucleophosmingene',\n",
       " 'npm1',\n",
       " 'fms',\n",
       " 'relate',\n",
       " 'tyrosine',\n",
       " 'kinase',\n",
       " '3',\n",
       " 'gene',\n",
       " 'flt3',\n",
       " 'ccaat',\n",
       " 'enhancer',\n",
       " 'bind',\n",
       " 'protein',\n",
       " 'alpha',\n",
       " 'gene',\n",
       " 'cebpa',\n",
       " 'myeloidlymphoidor',\n",
       " 'mixed',\n",
       " 'lineage',\n",
       " 'leukemia',\n",
       " 'gene',\n",
       " 'mll',\n",
       " 'neuroblastomaras',\n",
       " 'viral',\n",
       " 'oncogene',\n",
       " 'homolog',\n",
       " 'nra',\n",
       " 'researcher',\n",
       " 'germany',\n",
       " 'recently',\n",
       " 'conduct',\n",
       " 'clinical',\n",
       " 'study',\n",
       " 'explore',\n",
       " 'potential',\n",
       " 'association',\n",
       " 'npm1',\n",
       " 'flt3',\n",
       " 'cebpa',\n",
       " 'mll',\n",
       " 'nra',\n",
       " 'mutation',\n",
       " 'outcome',\n",
       " 'young',\n",
       " 'adult',\n",
       " 'aml',\n",
       " 'study',\n",
       " 'include',\n",
       " '872',\n",
       " 'adult',\n",
       " 'young',\n",
       " '60',\n",
       " 'year',\n",
       " 'age',\n",
       " 'enter',\n",
       " 'clinical',\n",
       " 'trial',\n",
       " 'aml',\n",
       " '53',\n",
       " 'patient',\n",
       " 'npm1',\n",
       " 'mutation',\n",
       " '31',\n",
       " 'flt3',\n",
       " 'internal',\n",
       " 'tandem',\n",
       " 'duplication',\n",
       " 'd',\n",
       " '11',\n",
       " 'flt',\n",
       " 'tyrosine',\n",
       " 'kinase',\n",
       " 'domain',\n",
       " 'mutation',\n",
       " '13',\n",
       " 'cebpa',\n",
       " 'mutation',\n",
       " '7',\n",
       " 'mll',\n",
       " 'partial',\n",
       " 'tandem',\n",
       " 'duplication',\n",
       " 'ptds',\n",
       " '13',\n",
       " 'nra',\n",
       " 'mutation',\n",
       " 'significant',\n",
       " ...]"
      ]
     },
     "execution_count": 17,
     "metadata": {},
     "output_type": "execute_result"
    }
   ],
   "source": [
    "post_corpus"
   ]
  },
  {
   "cell_type": "code",
   "execution_count": 18,
   "id": "fa47c179",
   "metadata": {},
   "outputs": [],
   "source": [
    "from collections import Counter"
   ]
  },
  {
   "cell_type": "code",
   "execution_count": 19,
   "id": "428ff5c9",
   "metadata": {},
   "outputs": [
    {
     "data": {
      "image/png": "[encoded data removed]",
      "text/plain": [
       "<Figure size 432x288 with 1 Axes>"
      ]
     },
     "metadata": {
      "needs_background": "light"
     },
     "output_type": "display_data"
    }
   ],
   "source": [
    "sns.barplot(pd.DataFrame(Counter(post_corpus).most_common(30))[0],\n",
    "           pd.DataFrame(Counter(post_corpus).most_common(30))[1])\n",
    "plt.xticks(rotation=90)\n",
    "plt.show()"
   ]
  },
  {
   "cell_type": "code",
   "execution_count": 20,
   "id": "1d14be29",
   "metadata": {},
   "outputs": [
    {
     "data": {
      "text/html": [
       "<div>\n",
       "<style scoped>\n",
       "    .dataframe tbody tr th:only-of-type {\n",
       "        vertical-align: middle;\n",
       "    }\n",
       "\n",
       "    .dataframe tbody tr th {\n",
       "        vertical-align: top;\n",
       "    }\n",
       "\n",
       "    .dataframe thead th {\n",
       "        text-align: right;\n",
       "    }\n",
       "</style>\n",
       "<table border=\"1\" class=\"dataframe\">\n",
       "  <thead>\n",
       "    <tr style=\"text-align: right;\">\n",
       "      <th></th>\n",
       "      <th>posts_prep</th>\n",
       "      <th>intensity</th>\n",
       "    </tr>\n",
       "  </thead>\n",
       "  <tbody>\n",
       "    <tr>\n",
       "      <th>0</th>\n",
       "      <td>know parent child syndrome hear child high ris...</td>\n",
       "      <td>-1</td>\n",
       "    </tr>\n",
       "    <tr>\n",
       "      <th>1</th>\n",
       "      <td>heart know future promise article regardless h...</td>\n",
       "      <td>0</td>\n",
       "    </tr>\n",
       "    <tr>\n",
       "      <th>2</th>\n",
       "      <td>mylefibrosis turn leukemia want stem cell tran...</td>\n",
       "      <td>-1</td>\n",
       "    </tr>\n",
       "    <tr>\n",
       "      <th>3</th>\n",
       "      <td>health group subject wayne dyer leukemia case ...</td>\n",
       "      <td>0</td>\n",
       "    </tr>\n",
       "    <tr>\n",
       "      <th>4</th>\n",
       "      <td>gmos link leukemia http nsnbc 2013 07 17 gmo l...</td>\n",
       "      <td>0</td>\n",
       "    </tr>\n",
       "  </tbody>\n",
       "</table>\n",
       "</div>"
      ],
      "text/plain": [
       "                                          posts_prep  intensity\n",
       "0  know parent child syndrome hear child high ris...         -1\n",
       "1  heart know future promise article regardless h...          0\n",
       "2  mylefibrosis turn leukemia want stem cell tran...         -1\n",
       "3  health group subject wayne dyer leukemia case ...          0\n",
       "4  gmos link leukemia http nsnbc 2013 07 17 gmo l...          0"
      ]
     },
     "execution_count": 20,
     "metadata": {},
     "output_type": "execute_result"
    }
   ],
   "source": [
    "# We select the features that interest us.\n",
    "data_new = data[['posts_prep','intensity']]\n",
    "data_new.head()"
   ]
  },
  {
   "cell_type": "code",
   "execution_count": 21,
   "id": "0257ba8f",
   "metadata": {},
   "outputs": [
    {
     "data": {
      "text/plain": [
       "<AxesSubplot:xlabel='intensity', ylabel='count'>"
      ]
     },
     "execution_count": 21,
     "metadata": {},
     "output_type": "execute_result"
    },
    {
     "data": {
      "image/png": "[encoded data removed]",
      "text/plain": [
       "<Figure size 432x288 with 1 Axes>"
      ]
     },
     "metadata": {
      "needs_background": "light"
     },
     "output_type": "display_data"
    }
   ],
   "source": [
    "sns.countplot(data_new['intensity'])"
   ]
  },
  {
   "cell_type": "code",
   "execution_count": 22,
   "id": "0c967557",
   "metadata": {},
   "outputs": [],
   "source": [
    "X_train, X_test, y_train, y_test = train_test_split(data_new['posts_prep'], \n",
    "                                                    data_new['intensity'], \n",
    "                                                    test_size = 0.2, \n",
    "                                                    random_state = 42)\n"
   ]
  },
  {
   "cell_type": "code",
   "execution_count": 23,
   "id": "250b5be4",
   "metadata": {},
   "outputs": [],
   "source": [
    "# Text vectorization using TF-IDF\n",
    "tfidf_vectorizer = TfidfVectorizer()\n",
    "X_train_tfidf = tfidf_vectorizer.fit_transform(X_train)\n",
    "X_test_tfidf = tfidf_vectorizer.transform(X_test)\n",
    "\n",
    "X_train_tfidf=X_train_tfidf.toarray()\n",
    "X_test_tfidf=X_test_tfidf.toarray()"
   ]
  },
  {
   "cell_type": "code",
   "execution_count": 24,
   "id": "14869306",
   "metadata": {},
   "outputs": [],
   "source": [
    "from imblearn.over_sampling import SMOTE\n"
   ]
  },
  {
   "cell_type": "markdown",
   "id": "95fc2962",
   "metadata": {},
   "source": [
    "# SMOTE"
   ]
  },
  {
   "cell_type": "code",
   "execution_count": 25,
   "id": "8b247ae6",
   "metadata": {},
   "outputs": [],
   "source": [
    "# Apply SMOTE to the TF-IDF feature space\n",
    "smote = SMOTE(random_state=42)\n",
    "X_train_resampled, y_train_resampled = smote.fit_resample(X_train_tfidf, y_train)\n",
    "X_test_resampled, y_test_resampled = smote.fit_resample(X_test_tfidf, y_test)\n"
   ]
  },
  {
   "cell_type": "code",
   "execution_count": 26,
   "id": "3db08f5d",
   "metadata": {},
   "outputs": [
    {
     "data": {
      "text/plain": [
       "(13940, 34335)"
      ]
     },
     "execution_count": 26,
     "metadata": {},
     "output_type": "execute_result"
    }
   ],
   "source": [
    "X_train_resampled.shape"
   ]
  },
  {
   "cell_type": "code",
   "execution_count": 27,
   "id": "e48a557c",
   "metadata": {},
   "outputs": [
    {
     "data": {
      "text/plain": [
       "(34335,)"
      ]
     },
     "execution_count": 27,
     "metadata": {},
     "output_type": "execute_result"
    }
   ],
   "source": [
    "X_train_resampled[0].shape\n"
   ]
  },
  {
   "cell_type": "code",
   "execution_count": 28,
   "id": "a1c06038",
   "metadata": {},
   "outputs": [],
   "source": [
    "from sklearn.ensemble import RandomForestClassifier"
   ]
  },
  {
   "cell_type": "code",
   "execution_count": 29,
   "id": "04dfa114",
   "metadata": {},
   "outputs": [],
   "source": [
    "from sklearn.linear_model import LogisticRegression"
   ]
  },
  {
   "cell_type": "code",
   "execution_count": 30,
   "id": "f0d4a34b",
   "metadata": {},
   "outputs": [],
   "source": [
    "from sklearn.neighbors import KNeighborsClassifier"
   ]
  },
  {
   "cell_type": "code",
   "execution_count": 31,
   "id": "20c4074d",
   "metadata": {},
   "outputs": [],
   "source": [
    "import xgboost as xgb "
   ]
  },
  {
   "cell_type": "code",
   "execution_count": 32,
   "id": "86651ea6",
   "metadata": {},
   "outputs": [],
   "source": [
    "from sklearn.tree import DecisionTreeClassifier"
   ]
  },
  {
   "cell_type": "markdown",
   "id": "39cce11a",
   "metadata": {},
   "source": [
    "# RandomForestClassifier"
   ]
  },
  {
   "cell_type": "code",
   "execution_count": 33,
   "id": "7affbcde",
   "metadata": {},
   "outputs": [],
   "source": [
    "rfc=RandomForestClassifier()\n"
   ]
  },
  {
   "cell_type": "code",
   "execution_count": 34,
   "id": "8a1c441f",
   "metadata": {},
   "outputs": [
    {
     "data": {
      "text/plain": [
       "RandomForestClassifier()"
      ]
     },
     "execution_count": 34,
     "metadata": {},
     "output_type": "execute_result"
    }
   ],
   "source": [
    "rfc.fit(X_train_resampled, y_train_resampled)"
   ]
  },
  {
   "cell_type": "code",
   "execution_count": 35,
   "id": "9863d8ad",
   "metadata": {},
   "outputs": [],
   "source": [
    "# Predictions\n",
    "y_pred_train = rfc.predict(X_train_resampled)\n",
    "y_pred_test = rfc.predict(X_test_resampled)"
   ]
  },
  {
   "cell_type": "code",
   "execution_count": 36,
   "id": "65d1dbed",
   "metadata": {},
   "outputs": [
    {
     "data": {
      "text/plain": [
       "0.999713055954089"
      ]
     },
     "execution_count": 36,
     "metadata": {},
     "output_type": "execute_result"
    }
   ],
   "source": [
    "accuracy_score(y_train_resampled,y_pred_train)"
   ]
  },
  {
   "cell_type": "code",
   "execution_count": 37,
   "id": "af35d5d1",
   "metadata": {},
   "outputs": [
    {
     "data": {
      "text/plain": [
       "0.6864454443194601"
      ]
     },
     "execution_count": 37,
     "metadata": {},
     "output_type": "execute_result"
    }
   ],
   "source": [
    "accuracy_score(y_test_resampled,y_pred_test)"
   ]
  },
  {
   "cell_type": "code",
   "execution_count": 38,
   "id": "bd5afe11",
   "metadata": {},
   "outputs": [
    {
     "data": {
      "text/plain": [
       "<AxesSubplot:>"
      ]
     },
     "execution_count": 38,
     "metadata": {},
     "output_type": "execute_result"
    },
    {
     "data": {
      "image/png": "[encoded data removed]",
      "text/plain": [
       "<Figure size 432x288 with 2 Axes>"
      ]
     },
     "metadata": {
      "needs_background": "light"
     },
     "output_type": "display_data"
    }
   ],
   "source": [
    "cm=confusion_matrix(y_test_resampled,y_pred_test)\n",
    "sns.heatmap(cm,fmt='d',annot=True)\n",
    "# Public F1-Score = 0.727"
   ]
  },
  {
   "cell_type": "code",
   "execution_count": 39,
   "id": "f92ae9f0",
   "metadata": {},
   "outputs": [
    {
     "name": "stdout",
     "output_type": "stream",
     "text": [
      "              precision    recall  f1-score   support\n",
      "\n",
      "          -2       0.69      0.80      0.74       889\n",
      "          -1       0.56      0.76      0.64       889\n",
      "           0       0.75      0.75      0.75       889\n",
      "           1       0.92      0.44      0.59       889\n",
      "\n",
      "    accuracy                           0.69      3556\n",
      "   macro avg       0.73      0.69      0.68      3556\n",
      "weighted avg       0.73      0.69      0.68      3556\n",
      "\n"
     ]
    }
   ],
   "source": [
    "print(classification_report(y_test_resampled,y_pred_test))"
   ]
  },
  {
   "cell_type": "code",
   "execution_count": null,
   "id": "5bfa6270",
   "metadata": {},
   "outputs": [],
   "source": []
  },
  {
   "cell_type": "markdown",
   "id": "c325a65d",
   "metadata": {},
   "source": [
    "# LogisticRegression"
   ]
  },
  {
   "cell_type": "code",
   "execution_count": 40,
   "id": "e4983fed",
   "metadata": {},
   "outputs": [],
   "source": [
    "lr=LogisticRegression()\n"
   ]
  },
  {
   "cell_type": "code",
   "execution_count": 41,
   "id": "577d2f1a",
   "metadata": {},
   "outputs": [
    {
     "data": {
      "text/plain": [
       "LogisticRegression()"
      ]
     },
     "execution_count": 41,
     "metadata": {},
     "output_type": "execute_result"
    }
   ],
   "source": [
    "lr.fit(X_train_resampled, y_train_resampled)"
   ]
  },
  {
   "cell_type": "code",
   "execution_count": 42,
   "id": "2af75f93",
   "metadata": {},
   "outputs": [],
   "source": [
    "# Predictions\n",
    "y_pred_train = lr.predict(X_train_resampled)\n",
    "y_pred_test = lr.predict(X_test_resampled)"
   ]
  },
  {
   "cell_type": "code",
   "execution_count": 43,
   "id": "a2032039",
   "metadata": {},
   "outputs": [
    {
     "data": {
      "text/plain": [
       "0.9078909612625538"
      ]
     },
     "execution_count": 43,
     "metadata": {},
     "output_type": "execute_result"
    }
   ],
   "source": [
    "accuracy_score(y_train_resampled,y_pred_train)"
   ]
  },
  {
   "cell_type": "code",
   "execution_count": 44,
   "id": "fb901fe2",
   "metadata": {},
   "outputs": [
    {
     "data": {
      "text/plain": [
       "0.7466254218222722"
      ]
     },
     "execution_count": 44,
     "metadata": {},
     "output_type": "execute_result"
    }
   ],
   "source": [
    "accuracy_score(y_test_resampled,y_pred_test)"
   ]
  },
  {
   "cell_type": "code",
   "execution_count": 45,
   "id": "a947c7c9",
   "metadata": {},
   "outputs": [
    {
     "data": {
      "text/plain": [
       "<AxesSubplot:>"
      ]
     },
     "execution_count": 45,
     "metadata": {},
     "output_type": "execute_result"
    },
    {
     "data": {
      "image/png": "[encoded data removed]",
      "text/plain": [
       "<Figure size 432x288 with 2 Axes>"
      ]
     },
     "metadata": {
      "needs_background": "light"
     },
     "output_type": "display_data"
    }
   ],
   "source": [
    "cm=confusion_matrix(y_test_resampled,y_pred_test)\n",
    "sns.heatmap(cm,fmt='d',annot=True)\n",
    "# Public F1-Score = 0.727"
   ]
  },
  {
   "cell_type": "code",
   "execution_count": 46,
   "id": "329278ee",
   "metadata": {},
   "outputs": [
    {
     "name": "stdout",
     "output_type": "stream",
     "text": [
      "              precision    recall  f1-score   support\n",
      "\n",
      "          -2       0.83      0.84      0.84       889\n",
      "          -1       0.62      0.71      0.66       889\n",
      "           0       0.75      0.75      0.75       889\n",
      "           1       0.80      0.68      0.74       889\n",
      "\n",
      "    accuracy                           0.75      3556\n",
      "   macro avg       0.75      0.75      0.75      3556\n",
      "weighted avg       0.75      0.75      0.75      3556\n",
      "\n"
     ]
    }
   ],
   "source": [
    "print(classification_report(y_test_resampled,y_pred_test))"
   ]
  },
  {
   "cell_type": "code",
   "execution_count": null,
   "id": "ad88d975",
   "metadata": {},
   "outputs": [],
   "source": []
  },
  {
   "cell_type": "code",
   "execution_count": null,
   "id": "e012ec88",
   "metadata": {},
   "outputs": [],
   "source": []
  },
  {
   "cell_type": "code",
   "execution_count": null,
   "id": "df9bc813",
   "metadata": {},
   "outputs": [],
   "source": []
  },
  {
   "cell_type": "code",
   "execution_count": null,
   "id": "42426a69",
   "metadata": {},
   "outputs": [],
   "source": []
  },
  {
   "cell_type": "markdown",
   "id": "b0ec8905",
   "metadata": {},
   "source": [
    "# KNeighborsClassifier"
   ]
  },
  {
   "cell_type": "code",
   "execution_count": 47,
   "id": "f65b6e72",
   "metadata": {},
   "outputs": [],
   "source": [
    "knc=KNeighborsClassifier()\n"
   ]
  },
  {
   "cell_type": "code",
   "execution_count": 48,
   "id": "fa3b4f3a",
   "metadata": {},
   "outputs": [
    {
     "data": {
      "text/plain": [
       "KNeighborsClassifier()"
      ]
     },
     "execution_count": 48,
     "metadata": {},
     "output_type": "execute_result"
    }
   ],
   "source": [
    "knc.fit(X_train_resampled, y_train_resampled)"
   ]
  },
  {
   "cell_type": "code",
   "execution_count": 49,
   "id": "da43605f",
   "metadata": {},
   "outputs": [],
   "source": [
    "# Predictions\n",
    "y_pred_train = knc.predict(X_train_resampled)\n",
    "y_pred_test = knc.predict(X_test_resampled)"
   ]
  },
  {
   "cell_type": "code",
   "execution_count": 50,
   "id": "be939ea9",
   "metadata": {},
   "outputs": [
    {
     "data": {
      "text/plain": [
       "0.5153515064562411"
      ]
     },
     "execution_count": 50,
     "metadata": {},
     "output_type": "execute_result"
    }
   ],
   "source": [
    "accuracy_score(y_train_resampled,y_pred_train)"
   ]
  },
  {
   "cell_type": "code",
   "execution_count": 51,
   "id": "dab70305",
   "metadata": {},
   "outputs": [
    {
     "data": {
      "text/plain": [
       "0.2941507311586052"
      ]
     },
     "execution_count": 51,
     "metadata": {},
     "output_type": "execute_result"
    }
   ],
   "source": [
    "accuracy_score(y_test_resampled,y_pred_test)"
   ]
  },
  {
   "cell_type": "code",
   "execution_count": 52,
   "id": "e5c5f2e8",
   "metadata": {},
   "outputs": [
    {
     "data": {
      "text/plain": [
       "<AxesSubplot:>"
      ]
     },
     "execution_count": 52,
     "metadata": {},
     "output_type": "execute_result"
    },
    {
     "data": {
      "image/png": "[encoded data removed]",
      "text/plain": [
       "<Figure size 432x288 with 2 Axes>"
      ]
     },
     "metadata": {
      "needs_background": "light"
     },
     "output_type": "display_data"
    }
   ],
   "source": [
    "cm=confusion_matrix(y_test_resampled,y_pred_test)\n",
    "sns.heatmap(cm,fmt='d',annot=True)\n",
    "# Public F1-Score = 0.727"
   ]
  },
  {
   "cell_type": "code",
   "execution_count": 53,
   "id": "8e26e3b6",
   "metadata": {},
   "outputs": [
    {
     "name": "stdout",
     "output_type": "stream",
     "text": [
      "              precision    recall  f1-score   support\n",
      "\n",
      "          -2       0.93      0.12      0.21       889\n",
      "          -1       1.00      0.01      0.01       889\n",
      "           0       0.98      0.05      0.10       889\n",
      "           1       0.26      1.00      0.42       889\n",
      "\n",
      "    accuracy                           0.29      3556\n",
      "   macro avg       0.79      0.29      0.18      3556\n",
      "weighted avg       0.79      0.29      0.18      3556\n",
      "\n"
     ]
    }
   ],
   "source": [
    "print(classification_report(y_test_resampled,y_pred_test))"
   ]
  },
  {
   "cell_type": "code",
   "execution_count": null,
   "id": "1508b6ff",
   "metadata": {},
   "outputs": [],
   "source": []
  },
  {
   "cell_type": "code",
   "execution_count": null,
   "id": "39f34627",
   "metadata": {},
   "outputs": [],
   "source": []
  },
  {
   "cell_type": "code",
   "execution_count": null,
   "id": "0e6c1560",
   "metadata": {},
   "outputs": [],
   "source": []
  },
  {
   "cell_type": "code",
   "execution_count": null,
   "id": "b0a2c6a4",
   "metadata": {},
   "outputs": [],
   "source": []
  },
  {
   "cell_type": "markdown",
   "id": "1d7f1c37",
   "metadata": {},
   "source": [
    "# DecisionTreeClassifier"
   ]
  },
  {
   "cell_type": "code",
   "execution_count": 54,
   "id": "6232f634",
   "metadata": {},
   "outputs": [],
   "source": [
    "dtc=DecisionTreeClassifier()\n"
   ]
  },
  {
   "cell_type": "code",
   "execution_count": 55,
   "id": "192961cb",
   "metadata": {},
   "outputs": [
    {
     "data": {
      "text/plain": [
       "DecisionTreeClassifier()"
      ]
     },
     "execution_count": 55,
     "metadata": {},
     "output_type": "execute_result"
    }
   ],
   "source": [
    "dtc.fit(X_train_resampled, y_train_resampled)"
   ]
  },
  {
   "cell_type": "code",
   "execution_count": 56,
   "id": "5bdf717a",
   "metadata": {},
   "outputs": [],
   "source": [
    "# Predictions\n",
    "y_pred_train = dtc.predict(X_train_resampled)\n",
    "y_pred_test = dtc.predict(X_test_resampled)"
   ]
  },
  {
   "cell_type": "code",
   "execution_count": 57,
   "id": "67bbf193",
   "metadata": {},
   "outputs": [
    {
     "data": {
      "text/plain": [
       "0.999713055954089"
      ]
     },
     "execution_count": 57,
     "metadata": {},
     "output_type": "execute_result"
    }
   ],
   "source": [
    "accuracy_score(y_train_resampled,y_pred_train)"
   ]
  },
  {
   "cell_type": "code",
   "execution_count": 58,
   "id": "4d8be068",
   "metadata": {},
   "outputs": [
    {
     "data": {
      "text/plain": [
       "0.578177727784027"
      ]
     },
     "execution_count": 58,
     "metadata": {},
     "output_type": "execute_result"
    }
   ],
   "source": [
    "accuracy_score(y_test_resampled,y_pred_test)"
   ]
  },
  {
   "cell_type": "code",
   "execution_count": 59,
   "id": "5e55bba5",
   "metadata": {},
   "outputs": [
    {
     "data": {
      "text/plain": [
       "<AxesSubplot:>"
      ]
     },
     "execution_count": 59,
     "metadata": {},
     "output_type": "execute_result"
    },
    {
     "data": {
      "image/png": "[encoded data removed]",
      "text/plain": [
       "<Figure size 432x288 with 2 Axes>"
      ]
     },
     "metadata": {
      "needs_background": "light"
     },
     "output_type": "display_data"
    }
   ],
   "source": [
    "cm=confusion_matrix(y_test_resampled,y_pred_test)\n",
    "sns.heatmap(cm,fmt='d',annot=True)\n",
    "# Public F1-Score = 0.727"
   ]
  },
  {
   "cell_type": "code",
   "execution_count": 60,
   "id": "c0d251fa",
   "metadata": {},
   "outputs": [
    {
     "name": "stdout",
     "output_type": "stream",
     "text": [
      "              precision    recall  f1-score   support\n",
      "\n",
      "          -2       0.66      0.61      0.63       889\n",
      "          -1       0.48      0.56      0.52       889\n",
      "           0       0.59      0.65      0.62       889\n",
      "           1       0.61      0.50      0.55       889\n",
      "\n",
      "    accuracy                           0.58      3556\n",
      "   macro avg       0.58      0.58      0.58      3556\n",
      "weighted avg       0.58      0.58      0.58      3556\n",
      "\n"
     ]
    }
   ],
   "source": [
    "print(classification_report(y_test_resampled,y_pred_test))"
   ]
  },
  {
   "cell_type": "markdown",
   "id": "1c1b2fc2",
   "metadata": {},
   "source": [
    "# MultinomialNB"
   ]
  },
  {
   "cell_type": "code",
   "execution_count": 61,
   "id": "c18664a7",
   "metadata": {},
   "outputs": [],
   "source": [
    "from sklearn.naive_bayes import MultinomialNB"
   ]
  },
  {
   "cell_type": "code",
   "execution_count": 62,
   "id": "713b0000",
   "metadata": {},
   "outputs": [],
   "source": [
    "model=MultinomialNB()\n"
   ]
  },
  {
   "cell_type": "code",
   "execution_count": 63,
   "id": "58d5e3ab",
   "metadata": {},
   "outputs": [
    {
     "data": {
      "text/plain": [
       "MultinomialNB()"
      ]
     },
     "execution_count": 63,
     "metadata": {},
     "output_type": "execute_result"
    }
   ],
   "source": [
    "model.fit(X_train_resampled, y_train_resampled)"
   ]
  },
  {
   "cell_type": "code",
   "execution_count": 64,
   "id": "e4b8581d",
   "metadata": {},
   "outputs": [],
   "source": [
    "# Predictions\n",
    "y_pred_train = model.predict(X_train_resampled)\n",
    "y_pred_test = model.predict(X_test_resampled)"
   ]
  },
  {
   "cell_type": "code",
   "execution_count": 65,
   "id": "9f848627",
   "metadata": {},
   "outputs": [
    {
     "data": {
      "text/plain": [
       "0.7893113342898135"
      ]
     },
     "execution_count": 65,
     "metadata": {},
     "output_type": "execute_result"
    }
   ],
   "source": [
    "accuracy_score(y_train_resampled,y_pred_train)"
   ]
  },
  {
   "cell_type": "code",
   "execution_count": 66,
   "id": "32d27906",
   "metadata": {},
   "outputs": [
    {
     "data": {
      "text/plain": [
       "0.6864454443194601"
      ]
     },
     "execution_count": 66,
     "metadata": {},
     "output_type": "execute_result"
    }
   ],
   "source": [
    "accuracy_score(y_test_resampled,y_pred_test)"
   ]
  },
  {
   "cell_type": "code",
   "execution_count": 67,
   "id": "6dabd104",
   "metadata": {},
   "outputs": [
    {
     "data": {
      "text/plain": [
       "<AxesSubplot:>"
      ]
     },
     "execution_count": 67,
     "metadata": {},
     "output_type": "execute_result"
    },
    {
     "data": {
      "image/png": "[encoded data removed]",
      "text/plain": [
       "<Figure size 432x288 with 2 Axes>"
      ]
     },
     "metadata": {
      "needs_background": "light"
     },
     "output_type": "display_data"
    }
   ],
   "source": [
    "cm=confusion_matrix(y_test_resampled,y_pred_test)\n",
    "sns.heatmap(cm,fmt='d',annot=True)\n",
    "# Public F1-Score = 0.727"
   ]
  },
  {
   "cell_type": "code",
   "execution_count": 68,
   "id": "b75ec8a1",
   "metadata": {},
   "outputs": [
    {
     "name": "stdout",
     "output_type": "stream",
     "text": [
      "              precision    recall  f1-score   support\n",
      "\n",
      "          -2       0.67      0.95      0.78       889\n",
      "          -1       0.55      0.70      0.62       889\n",
      "           0       0.91      0.46      0.61       889\n",
      "           1       0.81      0.64      0.71       889\n",
      "\n",
      "    accuracy                           0.69      3556\n",
      "   macro avg       0.73      0.69      0.68      3556\n",
      "weighted avg       0.73      0.69      0.68      3556\n",
      "\n"
     ]
    }
   ],
   "source": [
    "print(classification_report(y_test_resampled,y_pred_test))"
   ]
  },
  {
   "cell_type": "markdown",
   "id": "4b0fccf7",
   "metadata": {},
   "source": [
    "# ExtraTreesClassifier"
   ]
  },
  {
   "cell_type": "code",
   "execution_count": 69,
   "id": "00195189",
   "metadata": {},
   "outputs": [],
   "source": [
    "from sklearn.ensemble import ExtraTreesClassifier"
   ]
  },
  {
   "cell_type": "code",
   "execution_count": 70,
   "id": "da90f531",
   "metadata": {},
   "outputs": [],
   "source": [
    "etc=ExtraTreesClassifier()\n"
   ]
  },
  {
   "cell_type": "code",
   "execution_count": 71,
   "id": "6b768e1a",
   "metadata": {},
   "outputs": [
    {
     "data": {
      "text/plain": [
       "ExtraTreesClassifier()"
      ]
     },
     "execution_count": 71,
     "metadata": {},
     "output_type": "execute_result"
    }
   ],
   "source": [
    "etc.fit(X_train_resampled, y_train_resampled)"
   ]
  },
  {
   "cell_type": "code",
   "execution_count": 72,
   "id": "8fc0675e",
   "metadata": {},
   "outputs": [],
   "source": [
    "# Predictions\n",
    "y_pred_train = etc.predict(X_train_resampled)\n",
    "y_pred_test = etc.predict(X_test_resampled)"
   ]
  },
  {
   "cell_type": "code",
   "execution_count": 73,
   "id": "6932a690",
   "metadata": {},
   "outputs": [
    {
     "data": {
      "text/plain": [
       "0.999713055954089"
      ]
     },
     "execution_count": 73,
     "metadata": {},
     "output_type": "execute_result"
    }
   ],
   "source": [
    "accuracy_score(y_train_resampled,y_pred_train)"
   ]
  },
  {
   "cell_type": "code",
   "execution_count": 74,
   "id": "65baa9b9",
   "metadata": {},
   "outputs": [
    {
     "data": {
      "text/plain": [
       "0.655793025871766"
      ]
     },
     "execution_count": 74,
     "metadata": {},
     "output_type": "execute_result"
    }
   ],
   "source": [
    "accuracy_score(y_test_resampled,y_pred_test)"
   ]
  },
  {
   "cell_type": "code",
   "execution_count": 75,
   "id": "193010ab",
   "metadata": {},
   "outputs": [
    {
     "data": {
      "text/plain": [
       "<AxesSubplot:>"
      ]
     },
     "execution_count": 75,
     "metadata": {},
     "output_type": "execute_result"
    },
    {
     "data": {
      "image/png": "[encoded data removed]",
      "text/plain": [
       "<Figure size 432x288 with 2 Axes>"
      ]
     },
     "metadata": {
      "needs_background": "light"
     },
     "output_type": "display_data"
    }
   ],
   "source": [
    "cm=confusion_matrix(y_test_resampled,y_pred_test)\n",
    "sns.heatmap(cm,fmt='d',annot=True)\n",
    "# Public F1-Score = 0.727"
   ]
  },
  {
   "cell_type": "code",
   "execution_count": 76,
   "id": "28b3e913",
   "metadata": {},
   "outputs": [
    {
     "name": "stdout",
     "output_type": "stream",
     "text": [
      "              precision    recall  f1-score   support\n",
      "\n",
      "          -2       0.75      0.75      0.75       889\n",
      "          -1       0.49      0.80      0.61       889\n",
      "           0       0.73      0.74      0.74       889\n",
      "           1       0.93      0.33      0.48       889\n",
      "\n",
      "    accuracy                           0.66      3556\n",
      "   macro avg       0.72      0.66      0.65      3556\n",
      "weighted avg       0.72      0.66      0.65      3556\n",
      "\n"
     ]
    }
   ],
   "source": [
    "print(classification_report(y_test_resampled,y_pred_test))"
   ]
  },
  {
   "cell_type": "code",
   "execution_count": null,
   "id": "3412cbfa",
   "metadata": {},
   "outputs": [],
   "source": []
  },
  {
   "cell_type": "code",
   "execution_count": 77,
   "id": "3228d588",
   "metadata": {},
   "outputs": [],
   "source": [
    "from sklearn.svm import SVC"
   ]
  },
  {
   "cell_type": "code",
   "execution_count": 78,
   "id": "ecbb21b9",
   "metadata": {},
   "outputs": [],
   "source": [
    "from sklearn.ensemble import VotingClassifier"
   ]
  },
  {
   "cell_type": "code",
   "execution_count": 79,
   "id": "94771ac9",
   "metadata": {},
   "outputs": [],
   "source": [
    "from sklearn.ensemble import ExtraTreesClassifier"
   ]
  },
  {
   "cell_type": "markdown",
   "id": "4825400c",
   "metadata": {},
   "source": [
    "# Model Improvement"
   ]
  },
  {
   "cell_type": "code",
   "execution_count": 80,
   "id": "4cd3dfbd",
   "metadata": {},
   "outputs": [],
   "source": [
    "nb=MultinomialNB()\n"
   ]
  },
  {
   "cell_type": "code",
   "execution_count": 81,
   "id": "936feb61",
   "metadata": {},
   "outputs": [],
   "source": [
    "rfc= RandomForestClassifier(n_estimators=50, random_state=1)\n"
   ]
  },
  {
   "cell_type": "code",
   "execution_count": 82,
   "id": "51506abd",
   "metadata": {},
   "outputs": [],
   "source": [
    "etc=ExtraTreesClassifier(n_estimators=50,random_state=2)"
   ]
  },
  {
   "cell_type": "code",
   "execution_count": 83,
   "id": "8ad0f085",
   "metadata": {},
   "outputs": [],
   "source": [
    "voting=VotingClassifier(estimators=[('LR',lr),('nb',nb),('rf',rfc),('dt',dtc),('knn',knc),('etc',etc)],voting='soft')"
   ]
  },
  {
   "cell_type": "code",
   "execution_count": 84,
   "id": "05309139",
   "metadata": {},
   "outputs": [
    {
     "data": {
      "text/plain": [
       "VotingClassifier(estimators=[('LR', LogisticRegression()),\n",
       "                             ('nb', MultinomialNB()),\n",
       "                             ('rf',\n",
       "                              RandomForestClassifier(n_estimators=50,\n",
       "                                                     random_state=1)),\n",
       "                             ('dt', DecisionTreeClassifier()),\n",
       "                             ('knn', KNeighborsClassifier()),\n",
       "                             ('etc',\n",
       "                              ExtraTreesClassifier(n_estimators=50,\n",
       "                                                   random_state=2))],\n",
       "                 voting='soft')"
      ]
     },
     "execution_count": 84,
     "metadata": {},
     "output_type": "execute_result"
    }
   ],
   "source": [
    "voting.fit(X_train_resampled, y_train_resampled)"
   ]
  },
  {
   "cell_type": "code",
   "execution_count": 85,
   "id": "3cf54fee",
   "metadata": {},
   "outputs": [],
   "source": [
    "# Predictions\n",
    "y_pred_train = voting.predict(X_train_resampled)\n",
    "y_pred_test = voting.predict(X_test_resampled)"
   ]
  },
  {
   "cell_type": "code",
   "execution_count": 86,
   "id": "62a1105c",
   "metadata": {},
   "outputs": [
    {
     "data": {
      "text/plain": [
       "0.999713055954089"
      ]
     },
     "execution_count": 86,
     "metadata": {},
     "output_type": "execute_result"
    }
   ],
   "source": [
    "accuracy_score(y_train_resampled,y_pred_train)"
   ]
  },
  {
   "cell_type": "code",
   "execution_count": 87,
   "id": "344143ea",
   "metadata": {},
   "outputs": [
    {
     "data": {
      "text/plain": [
       "0.7463442069741283"
      ]
     },
     "execution_count": 87,
     "metadata": {},
     "output_type": "execute_result"
    }
   ],
   "source": [
    "accuracy_score(y_test_resampled,y_pred_test)"
   ]
  },
  {
   "cell_type": "code",
   "execution_count": 92,
   "id": "24d56ce7",
   "metadata": {},
   "outputs": [
    {
     "data": {
      "text/plain": [
       "<AxesSubplot:>"
      ]
     },
     "execution_count": 92,
     "metadata": {},
     "output_type": "execute_result"
    },
    {
     "data": {
      "image/png": "[encoded data removed]",
      "text/plain": [
       "<Figure size 432x288 with 2 Axes>"
      ]
     },
     "metadata": {
      "needs_background": "light"
     },
     "output_type": "display_data"
    }
   ],
   "source": [
    "cm=confusion_matrix(y_test_resampled,y_pred_test)\n",
    "sns.heatmap(cm,fmt='d',annot=True)\n",
    "# Public F1-Score = 0.727"
   ]
  },
  {
   "cell_type": "code",
   "execution_count": 93,
   "id": "d06ce54a",
   "metadata": {},
   "outputs": [
    {
     "name": "stdout",
     "output_type": "stream",
     "text": [
      "              precision    recall  f1-score   support\n",
      "\n",
      "          -2       0.84      0.81      0.82       889\n",
      "          -1       0.65      0.67      0.66       889\n",
      "           0       0.82      0.66      0.73       889\n",
      "           1       0.71      0.85      0.77       889\n",
      "\n",
      "    accuracy                           0.75      3556\n",
      "   macro avg       0.75      0.75      0.75      3556\n",
      "weighted avg       0.75      0.75      0.75      3556\n",
      "\n"
     ]
    }
   ],
   "source": [
    "print(classification_report(y_test_resampled,y_pred_test))"
   ]
  },
  {
   "cell_type": "code",
   "execution_count": null,
   "id": "37e25793",
   "metadata": {},
   "outputs": [],
   "source": []
  },
  {
   "cell_type": "code",
   "execution_count": 88,
   "id": "93944609",
   "metadata": {},
   "outputs": [],
   "source": [
    "import pickle"
   ]
  },
  {
   "cell_type": "code",
   "execution_count": 90,
   "id": "c043dae2",
   "metadata": {},
   "outputs": [],
   "source": [
    "pickle.dump(lr,open(\"model.pkl\",\"wb\"))"
   ]
  },
  {
   "cell_type": "code",
   "execution_count": 91,
   "id": "65048e51",
   "metadata": {},
   "outputs": [],
   "source": [
    "pickle.dump(tfidf_vectorizer,open(\"Vectorizer.pkl\",\"wb\"))"
   ]
  },
  {
   "cell_type": "code",
   "execution_count": null,
   "id": "5a9b3c71",
   "metadata": {},
   "outputs": [],
   "source": []
  },
  {
   "cell_type": "code",
   "execution_count": null,
   "id": "9be19e44",
   "metadata": {},
   "outputs": [],
   "source": []
  },
  {
   "cell_type": "code",
   "execution_count": null,
   "id": "7238d262",
   "metadata": {},
   "outputs": [],
   "source": []
  }
 ],
 "metadata": {
  "kernelspec": {
   "display_name": "Python 3 (ipykernel)",
   "language": "python",
   "name": "python3"
  },
  "language_info": {
   "codemirror_mode": {
    "name": "ipython",
    "version": 3
   },
   "file_extension": ".py",
   "mimetype": "text/x-python",
   "name": "python",
   "nbconvert_exporter": "python",
   "pygments_lexer": "ipython3",
   "version": "3.9.12"
  }
 },
 "nbformat": 4,
 "nbformat_minor": 5
}
